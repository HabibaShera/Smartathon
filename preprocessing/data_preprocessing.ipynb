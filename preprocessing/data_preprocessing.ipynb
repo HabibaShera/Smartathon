{
  "nbformat": 4,
  "nbformat_minor": 0,
  "metadata": {
    "colab": {
      "provenance": []
    },
    "kernelspec": {
      "name": "python3",
      "display_name": "Python 3"
    },
    "language_info": {
      "name": "python"
    }
  },
  "cells": [
    {
      "cell_type": "code",
      "source": [
        "import os\n",
        "import glob\n",
        "import shutil\n",
        "\n",
        "import numpy as np\n",
        "import pandas as pd\n",
        "from PIL import Image\n",
        "\n",
        "import tensorflow as tf\n",
        "import torch \n",
        "\n",
        "from sklearn.model_selection import train_test_split"
      ],
      "metadata": {
        "id": "WiKzHY1_bzkv"
      },
      "execution_count": 1,
      "outputs": []
    },
    {
      "cell_type": "code",
      "execution_count": 2,
      "metadata": {
        "colab": {
          "base_uri": "https://localhost:8080/",
          "height": 72
        },
        "id": "NK-ZvhyNbmR_",
        "outputId": "5cf20880-cf7b-4afa-f2c6-227ac9d1452a"
      },
      "outputs": [
        {
          "output_type": "stream",
          "name": "stdout",
          "text": [
            "Downloading data from https://he-public-data.s3.ap-southeast-1.amazonaws.com/dataset.zip\n",
            "2343844163/2343844163 [==============================] - 177s 0us/step\n"
          ]
        },
        {
          "output_type": "execute_result",
          "data": {
            "text/plain": [
              "'./datasets/full-dataset'"
            ],
            "application/vnd.google.colaboratory.intrinsic+json": {
              "type": "string"
            }
          },
          "metadata": {},
          "execution_count": 2
        }
      ],
      "source": [
        "# download the data\n",
        "data_path = 'https://he-public-data.s3.ap-southeast-1.amazonaws.com/dataset.zip'\n",
        "data_path = tf.keras.utils.get_file('full-dataset', data_path, cache_dir='.', extract=True)\n",
        "data_path"
      ]
    },
    {
      "cell_type": "code",
      "source": [
        "images_path = os.listdir('/content/datasets/dataset/images')\n",
        "images_path[:5]"
      ],
      "metadata": {
        "id": "C-xfN4tobtZP",
        "colab": {
          "base_uri": "https://localhost:8080/"
        },
        "outputId": "df3abaea-cf7f-4fe4-82bc-97e9b278fb7e"
      },
      "execution_count": 3,
      "outputs": [
        {
          "output_type": "execute_result",
          "data": {
            "text/plain": [
              "['dc3a705b1f27cd4a660a1bb1c53b898d.jpg',\n",
              " 'f26a657e0e25b351503adb12059525e8.jpg',\n",
              " 'c5e6d669cb50585bc4e911ac32485991.jpg',\n",
              " 'fb3ab7a23f98bd3c884b7b77e3deb2f0.jpg',\n",
              " '7ce059e0f1f5254f018be9572654c4fd.jpg']"
            ]
          },
          "metadata": {},
          "execution_count": 3
        }
      ]
    },
    {
      "cell_type": "code",
      "source": [
        "train = pd.read_csv('/content/datasets/dataset/train.csv')\n",
        "train.head()"
      ],
      "metadata": {
        "colab": {
          "base_uri": "https://localhost:8080/",
          "height": 206
        },
        "id": "Rf5A_iAWbteO",
        "outputId": "1ef4f262-1142-4333-acda-41ac6ccd1028"
      },
      "execution_count": 4,
      "outputs": [
        {
          "output_type": "execute_result",
          "data": {
            "text/plain": [
              "   class                            image_path           name   xmax   xmin  \\\n",
              "0    3.0  4a48c42c9579ec0399e6c5a3e825e765.jpg        GARBAGE  797.0  701.0   \n",
              "1    3.0  4a48c42c9579ec0399e6c5a3e825e765.jpg        GARBAGE  932.0  786.0   \n",
              "2    3.0  4a48c42c9579ec0399e6c5a3e825e765.jpg        GARBAGE  736.0  657.0   \n",
              "3    7.0  ea906a663da6321bcef78be4b7d1afff.jpg  BAD_BILLBOARD  986.0  786.0   \n",
              "4    8.0  1c7d48005a12d1b19261b8e71df7cafe.jpg   SAND_ON_ROAD  667.0  549.0   \n",
              "\n",
              "    ymax   ymin  \n",
              "0  262.0  211.0  \n",
              "1  329.0  238.0  \n",
              "2  275.0  229.0  \n",
              "3  136.0    0.0  \n",
              "4  228.0  179.0  "
            ],
            "text/html": [
              "\n",
              "  <div id=\"df-ec3c8b9a-2605-471e-96b9-48422e2e7cf7\">\n",
              "    <div class=\"colab-df-container\">\n",
              "      <div>\n",
              "<style scoped>\n",
              "    .dataframe tbody tr th:only-of-type {\n",
              "        vertical-align: middle;\n",
              "    }\n",
              "\n",
              "    .dataframe tbody tr th {\n",
              "        vertical-align: top;\n",
              "    }\n",
              "\n",
              "    .dataframe thead th {\n",
              "        text-align: right;\n",
              "    }\n",
              "</style>\n",
              "<table border=\"1\" class=\"dataframe\">\n",
              "  <thead>\n",
              "    <tr style=\"text-align: right;\">\n",
              "      <th></th>\n",
              "      <th>class</th>\n",
              "      <th>image_path</th>\n",
              "      <th>name</th>\n",
              "      <th>xmax</th>\n",
              "      <th>xmin</th>\n",
              "      <th>ymax</th>\n",
              "      <th>ymin</th>\n",
              "    </tr>\n",
              "  </thead>\n",
              "  <tbody>\n",
              "    <tr>\n",
              "      <th>0</th>\n",
              "      <td>3.0</td>\n",
              "      <td>4a48c42c9579ec0399e6c5a3e825e765.jpg</td>\n",
              "      <td>GARBAGE</td>\n",
              "      <td>797.0</td>\n",
              "      <td>701.0</td>\n",
              "      <td>262.0</td>\n",
              "      <td>211.0</td>\n",
              "    </tr>\n",
              "    <tr>\n",
              "      <th>1</th>\n",
              "      <td>3.0</td>\n",
              "      <td>4a48c42c9579ec0399e6c5a3e825e765.jpg</td>\n",
              "      <td>GARBAGE</td>\n",
              "      <td>932.0</td>\n",
              "      <td>786.0</td>\n",
              "      <td>329.0</td>\n",
              "      <td>238.0</td>\n",
              "    </tr>\n",
              "    <tr>\n",
              "      <th>2</th>\n",
              "      <td>3.0</td>\n",
              "      <td>4a48c42c9579ec0399e6c5a3e825e765.jpg</td>\n",
              "      <td>GARBAGE</td>\n",
              "      <td>736.0</td>\n",
              "      <td>657.0</td>\n",
              "      <td>275.0</td>\n",
              "      <td>229.0</td>\n",
              "    </tr>\n",
              "    <tr>\n",
              "      <th>3</th>\n",
              "      <td>7.0</td>\n",
              "      <td>ea906a663da6321bcef78be4b7d1afff.jpg</td>\n",
              "      <td>BAD_BILLBOARD</td>\n",
              "      <td>986.0</td>\n",
              "      <td>786.0</td>\n",
              "      <td>136.0</td>\n",
              "      <td>0.0</td>\n",
              "    </tr>\n",
              "    <tr>\n",
              "      <th>4</th>\n",
              "      <td>8.0</td>\n",
              "      <td>1c7d48005a12d1b19261b8e71df7cafe.jpg</td>\n",
              "      <td>SAND_ON_ROAD</td>\n",
              "      <td>667.0</td>\n",
              "      <td>549.0</td>\n",
              "      <td>228.0</td>\n",
              "      <td>179.0</td>\n",
              "    </tr>\n",
              "  </tbody>\n",
              "</table>\n",
              "</div>\n",
              "      <button class=\"colab-df-convert\" onclick=\"convertToInteractive('df-ec3c8b9a-2605-471e-96b9-48422e2e7cf7')\"\n",
              "              title=\"Convert this dataframe to an interactive table.\"\n",
              "              style=\"display:none;\">\n",
              "        \n",
              "  <svg xmlns=\"http://www.w3.org/2000/svg\" height=\"24px\"viewBox=\"0 0 24 24\"\n",
              "       width=\"24px\">\n",
              "    <path d=\"M0 0h24v24H0V0z\" fill=\"none\"/>\n",
              "    <path d=\"M18.56 5.44l.94 2.06.94-2.06 2.06-.94-2.06-.94-.94-2.06-.94 2.06-2.06.94zm-11 1L8.5 8.5l.94-2.06 2.06-.94-2.06-.94L8.5 2.5l-.94 2.06-2.06.94zm10 10l.94 2.06.94-2.06 2.06-.94-2.06-.94-.94-2.06-.94 2.06-2.06.94z\"/><path d=\"M17.41 7.96l-1.37-1.37c-.4-.4-.92-.59-1.43-.59-.52 0-1.04.2-1.43.59L10.3 9.45l-7.72 7.72c-.78.78-.78 2.05 0 2.83L4 21.41c.39.39.9.59 1.41.59.51 0 1.02-.2 1.41-.59l7.78-7.78 2.81-2.81c.8-.78.8-2.07 0-2.86zM5.41 20L4 18.59l7.72-7.72 1.47 1.35L5.41 20z\"/>\n",
              "  </svg>\n",
              "      </button>\n",
              "      \n",
              "  <style>\n",
              "    .colab-df-container {\n",
              "      display:flex;\n",
              "      flex-wrap:wrap;\n",
              "      gap: 12px;\n",
              "    }\n",
              "\n",
              "    .colab-df-convert {\n",
              "      background-color: #E8F0FE;\n",
              "      border: none;\n",
              "      border-radius: 50%;\n",
              "      cursor: pointer;\n",
              "      display: none;\n",
              "      fill: #1967D2;\n",
              "      height: 32px;\n",
              "      padding: 0 0 0 0;\n",
              "      width: 32px;\n",
              "    }\n",
              "\n",
              "    .colab-df-convert:hover {\n",
              "      background-color: #E2EBFA;\n",
              "      box-shadow: 0px 1px 2px rgba(60, 64, 67, 0.3), 0px 1px 3px 1px rgba(60, 64, 67, 0.15);\n",
              "      fill: #174EA6;\n",
              "    }\n",
              "\n",
              "    [theme=dark] .colab-df-convert {\n",
              "      background-color: #3B4455;\n",
              "      fill: #D2E3FC;\n",
              "    }\n",
              "\n",
              "    [theme=dark] .colab-df-convert:hover {\n",
              "      background-color: #434B5C;\n",
              "      box-shadow: 0px 1px 3px 1px rgba(0, 0, 0, 0.15);\n",
              "      filter: drop-shadow(0px 1px 2px rgba(0, 0, 0, 0.3));\n",
              "      fill: #FFFFFF;\n",
              "    }\n",
              "  </style>\n",
              "\n",
              "      <script>\n",
              "        const buttonEl =\n",
              "          document.querySelector('#df-ec3c8b9a-2605-471e-96b9-48422e2e7cf7 button.colab-df-convert');\n",
              "        buttonEl.style.display =\n",
              "          google.colab.kernel.accessAllowed ? 'block' : 'none';\n",
              "\n",
              "        async function convertToInteractive(key) {\n",
              "          const element = document.querySelector('#df-ec3c8b9a-2605-471e-96b9-48422e2e7cf7');\n",
              "          const dataTable =\n",
              "            await google.colab.kernel.invokeFunction('convertToInteractive',\n",
              "                                                     [key], {});\n",
              "          if (!dataTable) return;\n",
              "\n",
              "          const docLinkHtml = 'Like what you see? Visit the ' +\n",
              "            '<a target=\"_blank\" href=https://colab.research.google.com/notebooks/data_table.ipynb>data table notebook</a>'\n",
              "            + ' to learn more about interactive tables.';\n",
              "          element.innerHTML = '';\n",
              "          dataTable['output_type'] = 'display_data';\n",
              "          await google.colab.output.renderOutput(dataTable, element);\n",
              "          const docLink = document.createElement('div');\n",
              "          docLink.innerHTML = docLinkHtml;\n",
              "          element.appendChild(docLink);\n",
              "        }\n",
              "      </script>\n",
              "    </div>\n",
              "  </div>\n",
              "  "
            ]
          },
          "metadata": {},
          "execution_count": 4
        }
      ]
    },
    {
      "cell_type": "code",
      "source": [
        "test = pd.read_csv('/content/datasets/dataset/test.csv')\n",
        "test.head()"
      ],
      "metadata": {
        "colab": {
          "base_uri": "https://localhost:8080/",
          "height": 206
        },
        "id": "xUJ0aZvGnSk9",
        "outputId": "f7b21150-a634-41bb-ebde-b8ac889350a8"
      },
      "execution_count": 5,
      "outputs": [
        {
          "output_type": "execute_result",
          "data": {
            "text/plain": [
              "                             image_path\n",
              "0  953ab1447c46ecfef67ab14629cd70c7.jpg\n",
              "1  e4ddbaa7970fca225a51288ce5f7d3f9.jpg\n",
              "2  5b8120d69607a077b7583334be3ba18b.jpg\n",
              "3  138b1dc82005b4c33e4886260649d313.jpg\n",
              "4  0f91ec1533b845b13089f8cf4e0a36f7.jpg"
            ],
            "text/html": [
              "\n",
              "  <div id=\"df-529c1942-5a70-48d7-b5dc-5ddf579155e2\">\n",
              "    <div class=\"colab-df-container\">\n",
              "      <div>\n",
              "<style scoped>\n",
              "    .dataframe tbody tr th:only-of-type {\n",
              "        vertical-align: middle;\n",
              "    }\n",
              "\n",
              "    .dataframe tbody tr th {\n",
              "        vertical-align: top;\n",
              "    }\n",
              "\n",
              "    .dataframe thead th {\n",
              "        text-align: right;\n",
              "    }\n",
              "</style>\n",
              "<table border=\"1\" class=\"dataframe\">\n",
              "  <thead>\n",
              "    <tr style=\"text-align: right;\">\n",
              "      <th></th>\n",
              "      <th>image_path</th>\n",
              "    </tr>\n",
              "  </thead>\n",
              "  <tbody>\n",
              "    <tr>\n",
              "      <th>0</th>\n",
              "      <td>953ab1447c46ecfef67ab14629cd70c7.jpg</td>\n",
              "    </tr>\n",
              "    <tr>\n",
              "      <th>1</th>\n",
              "      <td>e4ddbaa7970fca225a51288ce5f7d3f9.jpg</td>\n",
              "    </tr>\n",
              "    <tr>\n",
              "      <th>2</th>\n",
              "      <td>5b8120d69607a077b7583334be3ba18b.jpg</td>\n",
              "    </tr>\n",
              "    <tr>\n",
              "      <th>3</th>\n",
              "      <td>138b1dc82005b4c33e4886260649d313.jpg</td>\n",
              "    </tr>\n",
              "    <tr>\n",
              "      <th>4</th>\n",
              "      <td>0f91ec1533b845b13089f8cf4e0a36f7.jpg</td>\n",
              "    </tr>\n",
              "  </tbody>\n",
              "</table>\n",
              "</div>\n",
              "      <button class=\"colab-df-convert\" onclick=\"convertToInteractive('df-529c1942-5a70-48d7-b5dc-5ddf579155e2')\"\n",
              "              title=\"Convert this dataframe to an interactive table.\"\n",
              "              style=\"display:none;\">\n",
              "        \n",
              "  <svg xmlns=\"http://www.w3.org/2000/svg\" height=\"24px\"viewBox=\"0 0 24 24\"\n",
              "       width=\"24px\">\n",
              "    <path d=\"M0 0h24v24H0V0z\" fill=\"none\"/>\n",
              "    <path d=\"M18.56 5.44l.94 2.06.94-2.06 2.06-.94-2.06-.94-.94-2.06-.94 2.06-2.06.94zm-11 1L8.5 8.5l.94-2.06 2.06-.94-2.06-.94L8.5 2.5l-.94 2.06-2.06.94zm10 10l.94 2.06.94-2.06 2.06-.94-2.06-.94-.94-2.06-.94 2.06-2.06.94z\"/><path d=\"M17.41 7.96l-1.37-1.37c-.4-.4-.92-.59-1.43-.59-.52 0-1.04.2-1.43.59L10.3 9.45l-7.72 7.72c-.78.78-.78 2.05 0 2.83L4 21.41c.39.39.9.59 1.41.59.51 0 1.02-.2 1.41-.59l7.78-7.78 2.81-2.81c.8-.78.8-2.07 0-2.86zM5.41 20L4 18.59l7.72-7.72 1.47 1.35L5.41 20z\"/>\n",
              "  </svg>\n",
              "      </button>\n",
              "      \n",
              "  <style>\n",
              "    .colab-df-container {\n",
              "      display:flex;\n",
              "      flex-wrap:wrap;\n",
              "      gap: 12px;\n",
              "    }\n",
              "\n",
              "    .colab-df-convert {\n",
              "      background-color: #E8F0FE;\n",
              "      border: none;\n",
              "      border-radius: 50%;\n",
              "      cursor: pointer;\n",
              "      display: none;\n",
              "      fill: #1967D2;\n",
              "      height: 32px;\n",
              "      padding: 0 0 0 0;\n",
              "      width: 32px;\n",
              "    }\n",
              "\n",
              "    .colab-df-convert:hover {\n",
              "      background-color: #E2EBFA;\n",
              "      box-shadow: 0px 1px 2px rgba(60, 64, 67, 0.3), 0px 1px 3px 1px rgba(60, 64, 67, 0.15);\n",
              "      fill: #174EA6;\n",
              "    }\n",
              "\n",
              "    [theme=dark] .colab-df-convert {\n",
              "      background-color: #3B4455;\n",
              "      fill: #D2E3FC;\n",
              "    }\n",
              "\n",
              "    [theme=dark] .colab-df-convert:hover {\n",
              "      background-color: #434B5C;\n",
              "      box-shadow: 0px 1px 3px 1px rgba(0, 0, 0, 0.15);\n",
              "      filter: drop-shadow(0px 1px 2px rgba(0, 0, 0, 0.3));\n",
              "      fill: #FFFFFF;\n",
              "    }\n",
              "  </style>\n",
              "\n",
              "      <script>\n",
              "        const buttonEl =\n",
              "          document.querySelector('#df-529c1942-5a70-48d7-b5dc-5ddf579155e2 button.colab-df-convert');\n",
              "        buttonEl.style.display =\n",
              "          google.colab.kernel.accessAllowed ? 'block' : 'none';\n",
              "\n",
              "        async function convertToInteractive(key) {\n",
              "          const element = document.querySelector('#df-529c1942-5a70-48d7-b5dc-5ddf579155e2');\n",
              "          const dataTable =\n",
              "            await google.colab.kernel.invokeFunction('convertToInteractive',\n",
              "                                                     [key], {});\n",
              "          if (!dataTable) return;\n",
              "\n",
              "          const docLinkHtml = 'Like what you see? Visit the ' +\n",
              "            '<a target=\"_blank\" href=https://colab.research.google.com/notebooks/data_table.ipynb>data table notebook</a>'\n",
              "            + ' to learn more about interactive tables.';\n",
              "          element.innerHTML = '';\n",
              "          dataTable['output_type'] = 'display_data';\n",
              "          await google.colab.output.renderOutput(dataTable, element);\n",
              "          const docLink = document.createElement('div');\n",
              "          docLink.innerHTML = docLinkHtml;\n",
              "          element.appendChild(docLink);\n",
              "        }\n",
              "      </script>\n",
              "    </div>\n",
              "  </div>\n",
              "  "
            ]
          },
          "metadata": {},
          "execution_count": 5
        }
      ]
    },
    {
      "cell_type": "code",
      "source": [
        "classes = list(train['name'].value_counts().index)\n",
        "classes_num = list(train['class'].value_counts().index)\n",
        "\n",
        "labels = dict(zip(classes, classes_num))\n",
        "labels"
      ],
      "metadata": {
        "colab": {
          "base_uri": "https://localhost:8080/"
        },
        "id": "SdSmjJGC_vob",
        "outputId": "00356e6f-f1c4-4be6-bdf9-c864a91fd75e"
      },
      "execution_count": 6,
      "outputs": [
        {
          "output_type": "execute_result",
          "data": {
            "text/plain": [
              "{'GARBAGE': 3.0,\n",
              " 'CONSTRUCTION_ROAD': 4.0,\n",
              " 'POTHOLES': 2.0,\n",
              " 'CLUTTER_SIDEWALK': 9.0,\n",
              " 'BAD_BILLBOARD': 7.0,\n",
              " 'GRAFFITI': 0.0,\n",
              " 'SAND_ON_ROAD': 8.0,\n",
              " 'UNKEPT_FACADE': 10.0,\n",
              " 'FADED_SIGNAGE': 1.0,\n",
              " 'BROKEN_SIGNAGE': 5.0,\n",
              " 'BAD_STREETLIGHT': 6.0}"
            ]
          },
          "metadata": {},
          "execution_count": 6
        }
      ]
    },
    {
      "cell_type": "code",
      "source": [
        "%cd /content/datasets/dataset"
      ],
      "metadata": {
        "colab": {
          "base_uri": "https://localhost:8080/"
        },
        "id": "LGIATjOpg8DD",
        "outputId": "75fc27ee-e56d-479e-b4a6-af7784c7842a"
      },
      "execution_count": 7,
      "outputs": [
        {
          "output_type": "stream",
          "name": "stdout",
          "text": [
            "/content/datasets/dataset\n"
          ]
        }
      ]
    },
    {
      "cell_type": "code",
      "source": [
        "os.makedirs('train/images')\n",
        "os.makedirs('train/labels')\n",
        "\n",
        "os.makedirs('val/images')\n",
        "os.makedirs('val/labels')\n",
        "\n",
        "os.makedirs('test')"
      ],
      "metadata": {
        "id": "T3AkMr6YoLu3"
      },
      "execution_count": 8,
      "outputs": []
    },
    {
      "cell_type": "code",
      "source": [
        "train['class'].value_counts()"
      ],
      "metadata": {
        "colab": {
          "base_uri": "https://localhost:8080/"
        },
        "id": "laNpI4o0Bnik",
        "outputId": "99239e1d-b043-45b9-f99a-d23fc1d6187f"
      },
      "execution_count": 9,
      "outputs": [
        {
          "output_type": "execute_result",
          "data": {
            "text/plain": [
              "3.0     8597\n",
              "4.0     2730\n",
              "2.0     2625\n",
              "9.0     2253\n",
              "7.0     1555\n",
              "0.0     1124\n",
              "8.0      748\n",
              "10.0     127\n",
              "1.0      107\n",
              "5.0       83\n",
              "6.0        1\n",
              "Name: class, dtype: int64"
            ]
          },
          "metadata": {},
          "execution_count": 9
        }
      ]
    },
    {
      "cell_type": "code",
      "source": [
        "train = train.drop(train[train['class']==6].index, axis=0)"
      ],
      "metadata": {
        "id": "qsTRCIR0BxT_"
      },
      "execution_count": 10,
      "outputs": []
    },
    {
      "cell_type": "code",
      "source": [
        "width , height = Image.open(glob.glob('/content/datasets/dataset/images/*')[0]).size\n",
        "print(width, height)"
      ],
      "metadata": {
        "colab": {
          "base_uri": "https://localhost:8080/"
        },
        "id": "2hUCaN1VFij1",
        "outputId": "f49926bc-f17c-4767-839e-02e450fa8418"
      },
      "execution_count": 11,
      "outputs": [
        {
          "output_type": "stream",
          "name": "stdout",
          "text": [
            "1920 1080\n"
          ]
        }
      ]
    },
    {
      "cell_type": "code",
      "source": [
        "# normalize the boundary box \n",
        "train['xc'] = round((train['xmax'] + train['xmin']) / (2*width), 2).values\n",
        "train['yc'] = round((train['ymax'] + train['ymin']) / (2*height), 2).values\n",
        "\n",
        "train['w'] = round((train['xmax'] - train['xmin']) / width, 2).values\n",
        "train['h'] = round((train['ymax'] - train['ymin']) / height, 2).values"
      ],
      "metadata": {
        "id": "oPE-GHWeFiog"
      },
      "execution_count": 12,
      "outputs": []
    },
    {
      "cell_type": "code",
      "source": [
        "train.head()"
      ],
      "metadata": {
        "colab": {
          "base_uri": "https://localhost:8080/",
          "height": 206
        },
        "id": "qWFuaETVPbYY",
        "outputId": "53dc035c-67c2-4061-c5c7-70584902d199"
      },
      "execution_count": 13,
      "outputs": [
        {
          "output_type": "execute_result",
          "data": {
            "text/plain": [
              "   class                            image_path           name   xmax   xmin  \\\n",
              "0    3.0  4a48c42c9579ec0399e6c5a3e825e765.jpg        GARBAGE  797.0  701.0   \n",
              "1    3.0  4a48c42c9579ec0399e6c5a3e825e765.jpg        GARBAGE  932.0  786.0   \n",
              "2    3.0  4a48c42c9579ec0399e6c5a3e825e765.jpg        GARBAGE  736.0  657.0   \n",
              "3    7.0  ea906a663da6321bcef78be4b7d1afff.jpg  BAD_BILLBOARD  986.0  786.0   \n",
              "4    8.0  1c7d48005a12d1b19261b8e71df7cafe.jpg   SAND_ON_ROAD  667.0  549.0   \n",
              "\n",
              "    ymax   ymin    xc    yc     w     h  \n",
              "0  262.0  211.0  0.39  0.22  0.05  0.05  \n",
              "1  329.0  238.0  0.45  0.26  0.08  0.08  \n",
              "2  275.0  229.0  0.36  0.23  0.04  0.04  \n",
              "3  136.0    0.0  0.46  0.06  0.10  0.13  \n",
              "4  228.0  179.0  0.32  0.19  0.06  0.05  "
            ],
            "text/html": [
              "\n",
              "  <div id=\"df-c2ea9f4c-150e-41a9-b5d4-0a418f35c075\">\n",
              "    <div class=\"colab-df-container\">\n",
              "      <div>\n",
              "<style scoped>\n",
              "    .dataframe tbody tr th:only-of-type {\n",
              "        vertical-align: middle;\n",
              "    }\n",
              "\n",
              "    .dataframe tbody tr th {\n",
              "        vertical-align: top;\n",
              "    }\n",
              "\n",
              "    .dataframe thead th {\n",
              "        text-align: right;\n",
              "    }\n",
              "</style>\n",
              "<table border=\"1\" class=\"dataframe\">\n",
              "  <thead>\n",
              "    <tr style=\"text-align: right;\">\n",
              "      <th></th>\n",
              "      <th>class</th>\n",
              "      <th>image_path</th>\n",
              "      <th>name</th>\n",
              "      <th>xmax</th>\n",
              "      <th>xmin</th>\n",
              "      <th>ymax</th>\n",
              "      <th>ymin</th>\n",
              "      <th>xc</th>\n",
              "      <th>yc</th>\n",
              "      <th>w</th>\n",
              "      <th>h</th>\n",
              "    </tr>\n",
              "  </thead>\n",
              "  <tbody>\n",
              "    <tr>\n",
              "      <th>0</th>\n",
              "      <td>3.0</td>\n",
              "      <td>4a48c42c9579ec0399e6c5a3e825e765.jpg</td>\n",
              "      <td>GARBAGE</td>\n",
              "      <td>797.0</td>\n",
              "      <td>701.0</td>\n",
              "      <td>262.0</td>\n",
              "      <td>211.0</td>\n",
              "      <td>0.39</td>\n",
              "      <td>0.22</td>\n",
              "      <td>0.05</td>\n",
              "      <td>0.05</td>\n",
              "    </tr>\n",
              "    <tr>\n",
              "      <th>1</th>\n",
              "      <td>3.0</td>\n",
              "      <td>4a48c42c9579ec0399e6c5a3e825e765.jpg</td>\n",
              "      <td>GARBAGE</td>\n",
              "      <td>932.0</td>\n",
              "      <td>786.0</td>\n",
              "      <td>329.0</td>\n",
              "      <td>238.0</td>\n",
              "      <td>0.45</td>\n",
              "      <td>0.26</td>\n",
              "      <td>0.08</td>\n",
              "      <td>0.08</td>\n",
              "    </tr>\n",
              "    <tr>\n",
              "      <th>2</th>\n",
              "      <td>3.0</td>\n",
              "      <td>4a48c42c9579ec0399e6c5a3e825e765.jpg</td>\n",
              "      <td>GARBAGE</td>\n",
              "      <td>736.0</td>\n",
              "      <td>657.0</td>\n",
              "      <td>275.0</td>\n",
              "      <td>229.0</td>\n",
              "      <td>0.36</td>\n",
              "      <td>0.23</td>\n",
              "      <td>0.04</td>\n",
              "      <td>0.04</td>\n",
              "    </tr>\n",
              "    <tr>\n",
              "      <th>3</th>\n",
              "      <td>7.0</td>\n",
              "      <td>ea906a663da6321bcef78be4b7d1afff.jpg</td>\n",
              "      <td>BAD_BILLBOARD</td>\n",
              "      <td>986.0</td>\n",
              "      <td>786.0</td>\n",
              "      <td>136.0</td>\n",
              "      <td>0.0</td>\n",
              "      <td>0.46</td>\n",
              "      <td>0.06</td>\n",
              "      <td>0.10</td>\n",
              "      <td>0.13</td>\n",
              "    </tr>\n",
              "    <tr>\n",
              "      <th>4</th>\n",
              "      <td>8.0</td>\n",
              "      <td>1c7d48005a12d1b19261b8e71df7cafe.jpg</td>\n",
              "      <td>SAND_ON_ROAD</td>\n",
              "      <td>667.0</td>\n",
              "      <td>549.0</td>\n",
              "      <td>228.0</td>\n",
              "      <td>179.0</td>\n",
              "      <td>0.32</td>\n",
              "      <td>0.19</td>\n",
              "      <td>0.06</td>\n",
              "      <td>0.05</td>\n",
              "    </tr>\n",
              "  </tbody>\n",
              "</table>\n",
              "</div>\n",
              "      <button class=\"colab-df-convert\" onclick=\"convertToInteractive('df-c2ea9f4c-150e-41a9-b5d4-0a418f35c075')\"\n",
              "              title=\"Convert this dataframe to an interactive table.\"\n",
              "              style=\"display:none;\">\n",
              "        \n",
              "  <svg xmlns=\"http://www.w3.org/2000/svg\" height=\"24px\"viewBox=\"0 0 24 24\"\n",
              "       width=\"24px\">\n",
              "    <path d=\"M0 0h24v24H0V0z\" fill=\"none\"/>\n",
              "    <path d=\"M18.56 5.44l.94 2.06.94-2.06 2.06-.94-2.06-.94-.94-2.06-.94 2.06-2.06.94zm-11 1L8.5 8.5l.94-2.06 2.06-.94-2.06-.94L8.5 2.5l-.94 2.06-2.06.94zm10 10l.94 2.06.94-2.06 2.06-.94-2.06-.94-.94-2.06-.94 2.06-2.06.94z\"/><path d=\"M17.41 7.96l-1.37-1.37c-.4-.4-.92-.59-1.43-.59-.52 0-1.04.2-1.43.59L10.3 9.45l-7.72 7.72c-.78.78-.78 2.05 0 2.83L4 21.41c.39.39.9.59 1.41.59.51 0 1.02-.2 1.41-.59l7.78-7.78 2.81-2.81c.8-.78.8-2.07 0-2.86zM5.41 20L4 18.59l7.72-7.72 1.47 1.35L5.41 20z\"/>\n",
              "  </svg>\n",
              "      </button>\n",
              "      \n",
              "  <style>\n",
              "    .colab-df-container {\n",
              "      display:flex;\n",
              "      flex-wrap:wrap;\n",
              "      gap: 12px;\n",
              "    }\n",
              "\n",
              "    .colab-df-convert {\n",
              "      background-color: #E8F0FE;\n",
              "      border: none;\n",
              "      border-radius: 50%;\n",
              "      cursor: pointer;\n",
              "      display: none;\n",
              "      fill: #1967D2;\n",
              "      height: 32px;\n",
              "      padding: 0 0 0 0;\n",
              "      width: 32px;\n",
              "    }\n",
              "\n",
              "    .colab-df-convert:hover {\n",
              "      background-color: #E2EBFA;\n",
              "      box-shadow: 0px 1px 2px rgba(60, 64, 67, 0.3), 0px 1px 3px 1px rgba(60, 64, 67, 0.15);\n",
              "      fill: #174EA6;\n",
              "    }\n",
              "\n",
              "    [theme=dark] .colab-df-convert {\n",
              "      background-color: #3B4455;\n",
              "      fill: #D2E3FC;\n",
              "    }\n",
              "\n",
              "    [theme=dark] .colab-df-convert:hover {\n",
              "      background-color: #434B5C;\n",
              "      box-shadow: 0px 1px 3px 1px rgba(0, 0, 0, 0.15);\n",
              "      filter: drop-shadow(0px 1px 2px rgba(0, 0, 0, 0.3));\n",
              "      fill: #FFFFFF;\n",
              "    }\n",
              "  </style>\n",
              "\n",
              "      <script>\n",
              "        const buttonEl =\n",
              "          document.querySelector('#df-c2ea9f4c-150e-41a9-b5d4-0a418f35c075 button.colab-df-convert');\n",
              "        buttonEl.style.display =\n",
              "          google.colab.kernel.accessAllowed ? 'block' : 'none';\n",
              "\n",
              "        async function convertToInteractive(key) {\n",
              "          const element = document.querySelector('#df-c2ea9f4c-150e-41a9-b5d4-0a418f35c075');\n",
              "          const dataTable =\n",
              "            await google.colab.kernel.invokeFunction('convertToInteractive',\n",
              "                                                     [key], {});\n",
              "          if (!dataTable) return;\n",
              "\n",
              "          const docLinkHtml = 'Like what you see? Visit the ' +\n",
              "            '<a target=\"_blank\" href=https://colab.research.google.com/notebooks/data_table.ipynb>data table notebook</a>'\n",
              "            + ' to learn more about interactive tables.';\n",
              "          element.innerHTML = '';\n",
              "          dataTable['output_type'] = 'display_data';\n",
              "          await google.colab.output.renderOutput(dataTable, element);\n",
              "          const docLink = document.createElement('div');\n",
              "          docLink.innerHTML = docLinkHtml;\n",
              "          element.appendChild(docLink);\n",
              "        }\n",
              "      </script>\n",
              "    </div>\n",
              "  </div>\n",
              "  "
            ]
          },
          "metadata": {},
          "execution_count": 13
        }
      ]
    },
    {
      "cell_type": "code",
      "source": [
        "# split data according to classes\n",
        "train_df, val_df = train_test_split(train, test_size=0.2, stratify=train['class'])"
      ],
      "metadata": {
        "id": "3PeFRa1v_uX7"
      },
      "execution_count": 14,
      "outputs": []
    },
    {
      "cell_type": "code",
      "source": [
        "train_df['class'].value_counts(normalize=True)*100"
      ],
      "metadata": {
        "colab": {
          "base_uri": "https://localhost:8080/"
        },
        "id": "WYaHp5QAABMt",
        "outputId": "49b6e6b7-a34d-4fe6-ffdb-8abc46cd3ace"
      },
      "execution_count": 15,
      "outputs": [
        {
          "output_type": "execute_result",
          "data": {
            "text/plain": [
              "3.0     43.097938\n",
              "4.0     13.685068\n",
              "2.0     13.158719\n",
              "9.0     11.291434\n",
              "7.0      7.794975\n",
              "0.0      5.633185\n",
              "8.0      3.747102\n",
              "10.0     0.639138\n",
              "1.0      0.538881\n",
              "5.0      0.413560\n",
              "Name: class, dtype: float64"
            ]
          },
          "metadata": {},
          "execution_count": 15
        }
      ]
    },
    {
      "cell_type": "code",
      "source": [
        "val_df['class'].value_counts(normalize=True)*100"
      ],
      "metadata": {
        "colab": {
          "base_uri": "https://localhost:8080/"
        },
        "id": "XAGclQPJADAe",
        "outputId": "d1937809-a961-4714-ee6d-15771cca8ec3"
      },
      "execution_count": 16,
      "outputs": [
        {
          "output_type": "execute_result",
          "data": {
            "text/plain": [
              "3.0     43.082707\n",
              "4.0     13.684211\n",
              "2.0     13.157895\n",
              "9.0     11.303258\n",
              "7.0      7.794486\n",
              "0.0      5.639098\n",
              "8.0      3.759398\n",
              "10.0     0.626566\n",
              "1.0      0.526316\n",
              "5.0      0.426065\n",
              "Name: class, dtype: float64"
            ]
          },
          "metadata": {},
          "execution_count": 16
        }
      ]
    },
    {
      "cell_type": "code",
      "source": [
        "train_imgs = list(set(train_df['image_path']))\n",
        "val_imgs = list(set(val_df['image_path']))\n",
        "test_imgs = list(set(test['image_path']))"
      ],
      "metadata": {
        "id": "rl2AB_Seg8Hy"
      },
      "execution_count": 17,
      "outputs": []
    },
    {
      "cell_type": "code",
      "source": [
        "print(f'Train images num : {len(train_imgs)}')\n",
        "print(f'Val images num : {len(val_imgs)}')\n",
        "print(f'Test images num : {len(test_imgs)}')"
      ],
      "metadata": {
        "colab": {
          "base_uri": "https://localhost:8080/"
        },
        "id": "WSNl1ROtpms1",
        "outputId": "f7fc07d7-6a91-49d5-8cab-5fe31b61507d"
      },
      "execution_count": 18,
      "outputs": [
        {
          "output_type": "stream",
          "name": "stdout",
          "text": [
            "Train images num : 7232\n",
            "Val images num : 3092\n",
            "Test images num : 2092\n"
          ]
        }
      ]
    },
    {
      "cell_type": "code",
      "source": [
        "def copy_files(paths_list, dist, test, folder=None):\n",
        "  \"\"\"\n",
        "  A function takes image paths and copy them in distination path and create txt files with normalized boundary boxes.\n",
        "  :param paths_list : list\n",
        "  :param dist       : str\n",
        "  :param test       : bool\n",
        "  :param folder     : optional and its values is ['train', 'val', None]. Defult is None.\n",
        "  :return           : images and text files\n",
        "  \"\"\"\n",
        "  for path in paths_list:\n",
        "    img_name = path\n",
        "    path = os.path.join('/content/datasets/dataset/images', path)\n",
        "    shutil.copy(path, dist)\n",
        "    \n",
        "    if not test:\n",
        "      if folder=='train':\n",
        "        os.chdir('/content/datasets/dataset/train/labels')\n",
        "        new_df = train_df[train_df['image_path'] == img_name].drop(['name', 'xmax', 'xmin', 'ymin', 'ymax', 'image_path'], axis=1)\n",
        "\n",
        "      elif folder=='val':\n",
        "        os.chdir('/content/datasets/dataset/val/labels')\n",
        "        new_df = val_df[val_df['image_path'] == img_name].drop(['name', 'xmax', 'xmin', 'ymin', 'ymax', 'image_path'], axis=1)\n",
        "\n",
        "\n",
        "      with open(f\"{img_name.split('.')[0]}\" + '.txt', \"w\") as file:\n",
        "        for i in range(len(new_df)):\n",
        "          output = list(new_df.iloc[i, :].values)\n",
        "          file.write(f'{output[0]} {output[1]} {output[2]} {output[3]} {output[4]}\\n')  \n",
        "      \n",
        "      os.chdir('/content/datasets/dataset')\n",
        "    \n",
        "    else:\n",
        "      continue    \n",
        "  "
      ],
      "metadata": {
        "id": "yIjTlPo1r0Tt"
      },
      "execution_count": 19,
      "outputs": []
    },
    {
      "cell_type": "code",
      "source": [
        "copy_files(train_imgs, '/content/datasets/dataset/train/images', test=False, folder='train')\n",
        "copy_files(val_imgs, '/content/datasets/dataset/val/images', test=False, folder='val')\n",
        "copy_files(test_imgs, '/content/datasets/dataset/test', test=True)"
      ],
      "metadata": {
        "id": "pDBOhYBPr0Zs"
      },
      "execution_count": 20,
      "outputs": []
    },
    {
      "cell_type": "code",
      "source": [
        "paths = ['/content/datasets/dataset/train/labels', '/content/datasets/dataset/val/labels',\n",
        "         '/content/datasets/dataset/test']"
      ],
      "metadata": {
        "id": "baCmSyX4vr9L"
      },
      "execution_count": 21,
      "outputs": []
    },
    {
      "cell_type": "code",
      "source": [
        "[len(os.listdir(path)) for path in paths]"
      ],
      "metadata": {
        "colab": {
          "base_uri": "https://localhost:8080/"
        },
        "id": "AkSLjF_mvsDu",
        "outputId": "f3ddd043-58dd-4bf8-f6cd-b24ad56e9287"
      },
      "execution_count": 22,
      "outputs": [
        {
          "output_type": "execute_result",
          "data": {
            "text/plain": [
              "[7232, 3092, 2092]"
            ]
          },
          "metadata": {},
          "execution_count": 22
        }
      ]
    },
    {
      "cell_type": "code",
      "source": [],
      "metadata": {
        "id": "JLfx_lH9DjBN"
      },
      "execution_count": 22,
      "outputs": []
    }
  ]
}